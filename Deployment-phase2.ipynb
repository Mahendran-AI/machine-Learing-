{
 "cells": [
  {
   "cell_type": "code",
   "execution_count": 1,
   "id": "0a37647f-a276-496e-b3b4-eed9f2946abe",
   "metadata": {},
   "outputs": [],
   "source": [
    "import pickle"
   ]
  },
  {
   "cell_type": "code",
   "execution_count": 7,
   "id": "c21bf0ee-78d5-44ce-a8d7-7787660f2008",
   "metadata": {},
   "outputs": [
    {
     "name": "stderr",
     "output_type": "stream",
     "text": [
      "C:\\Users\\user\\anaconda3\\Lib\\site-packages\\sklearn\\base.py:493: UserWarning: X does not have valid feature names, but LinearRegression was fitted with feature names\n",
      "  warnings.warn(\n"
     ]
    }
   ],
   "source": [
    "\n",
    "loaded_model=pickle.load(open(\"finilized_model_linear.sav\",'rb'))\n",
    "result=loaded_model.predict([[19]])"
   ]
  },
  {
   "cell_type": "code",
   "execution_count": 9,
   "id": "060cf665-7c05-4d44-b293-d2895ac9a442",
   "metadata": {},
   "outputs": [
    {
     "data": {
      "text/plain": [
       "array([[204622.35577888]])"
      ]
     },
     "execution_count": 9,
     "metadata": {},
     "output_type": "execute_result"
    }
   ],
   "source": [
    "result"
   ]
  },
  {
   "cell_type": "code",
   "execution_count": null,
   "id": "b7f50935-bf30-4318-acb1-523a69098ed9",
   "metadata": {},
   "outputs": [],
   "source": []
  }
 ],
 "metadata": {
  "kernelspec": {
   "display_name": "Python [conda env:base] *",
   "language": "python",
   "name": "conda-base-py"
  },
  "language_info": {
   "codemirror_mode": {
    "name": "ipython",
    "version": 3
   },
   "file_extension": ".py",
   "mimetype": "text/x-python",
   "name": "python",
   "nbconvert_exporter": "python",
   "pygments_lexer": "ipython3",
   "version": "3.12.4"
  }
 },
 "nbformat": 4,
 "nbformat_minor": 5
}
